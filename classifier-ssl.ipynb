{
 "cells": [
  {
   "cell_type": "code",
   "execution_count": 1,
   "metadata": {},
   "outputs": [],
   "source": [
    "import torch\n",
    "from torchvision import datasets\n",
    "from torchvision import transforms\n",
    "from tqdm import tqdm\n",
    "import wandb\n",
    "from dotenv import dotenv_values\n",
    "import os\n",
    "import json"
   ]
  },
  {
   "cell_type": "code",
   "execution_count": 2,
   "metadata": {},
   "outputs": [
    {
     "name": "stdout",
     "output_type": "stream",
     "text": [
      "odict_keys(['WANDB_API_KEY', 'WANDB_PROJECT'])\n"
     ]
    }
   ],
   "source": [
    "envs = [\"secret.env\"]\n",
    "\n",
    "for fenv in envs:\n",
    "    file = os.path.join(\"env\", fenv)\n",
    "    config = dotenv_values(file)  # load sensitive variables\n",
    "    print(config.keys())\n",
    "    for c, v in config.items():\n",
    "        os.environ[c] = v"
   ]
  },
  {
   "cell_type": "code",
   "execution_count": 3,
   "metadata": {},
   "outputs": [
    {
     "name": "stderr",
     "output_type": "stream",
     "text": [
      "Failed to detect the name of this notebook, you can set it manually with the WANDB_NOTEBOOK_NAME environment variable to enable code saving.\n"
     ]
    },
    {
     "name": "stderr",
     "output_type": "stream",
     "text": [
      "\u001b[34m\u001b[1mwandb\u001b[0m: Currently logged in as: \u001b[33mwilber-quito\u001b[0m (\u001b[33mdeepsat\u001b[0m). Use \u001b[1m`wandb login --relogin`\u001b[0m to force relogin\n",
      "\u001b[34m\u001b[1mwandb\u001b[0m: \u001b[33mWARNING\u001b[0m If you're specifying your api key in code, ensure this code is not shared publicly.\n",
      "\u001b[34m\u001b[1mwandb\u001b[0m: \u001b[33mWARNING\u001b[0m Consider setting the WANDB_API_KEY environment variable, or running `wandb login` from the command line.\n",
      "\u001b[34m\u001b[1mwandb\u001b[0m: Appending key for api.wandb.ai to your netrc file: /root/.netrc\n"
     ]
    },
    {
     "data": {
      "text/plain": [
       "True"
      ]
     },
     "execution_count": 3,
     "metadata": {},
     "output_type": "execute_result"
    }
   ],
   "source": [
    "wandb_key = os.environ[\"WANDB_API_KEY\"]\n",
    "wandb.login(key=wandb_key)"
   ]
  },
  {
   "cell_type": "code",
   "execution_count": 4,
   "metadata": {},
   "outputs": [],
   "source": [
    "class WANDBConfig:\n",
    "\n",
    "    def __init__(self, job_type: str, config_path: str):\n",
    "        self.job_type = job_type\n",
    "        self.config_path = config_path\n",
    "\n",
    "    def __enter__(self):\n",
    "        config = {}\n",
    "        with open(self.config_path) as f:\n",
    "            config = json.load(f)\n",
    "            if config[\"accelerate\"]:\n",
    "                device = \"cuda\" if torch.cuda.is_available() else \"cpu\"\n",
    "                config[\"device\"] = device\n",
    "            else:\n",
    "                config[\"device\"] = \"cpu\"\n",
    "\n",
    "        wandb.init(job_type=self.job_type, config=config)\n",
    "\n",
    "    def __exit__(self, exc_type, exc_val, exc_tb):\n",
    "        wandb.finish()"
   ]
  },
  {
   "cell_type": "code",
   "execution_count": 5,
   "metadata": {},
   "outputs": [],
   "source": [
    "class ClearCache:\n",
    "    def __enter__(self):\n",
    "        torch.cuda.empty_cache()\n",
    "\n",
    "    def __exit__(self, exc_type, exc_val, exc_tb):\n",
    "        torch.cuda.empty_cache()"
   ]
  },
  {
   "cell_type": "code",
   "execution_count": 6,
   "metadata": {},
   "outputs": [],
   "source": [
    "def dataloader():\n",
    "    # Transforms images to a PyTorch Tensor\n",
    "    tensor_transform = transforms.ToTensor()\n",
    "\n",
    "    # Download the MNIST Dataset\n",
    "    dataset = datasets.MNIST(\n",
    "        root=\"./data\", train=True, download=True, transform=tensor_transform\n",
    "    )\n",
    "\n",
    "    generator = torch.Generator().manual_seed(42)\n",
    "    train_ae_ds, val_ae_ds, train_classifier_ds, val_classifier_ds = (\n",
    "        torch.utils.data.random_split(\n",
    "            dataset, [0.6, 0.1, 0.2, 0.1], generator=generator\n",
    "        )\n",
    "    )\n",
    "\n",
    "    # DataLoader is used to load the dataset\n",
    "    # for training\n",
    "    train_ae_loader = torch.utils.data.DataLoader(\n",
    "        dataset=train_ae_ds, batch_size=wandb.config.batch_size, shuffle=True\n",
    "    )\n",
    "\n",
    "    val_ae_loader = torch.utils.data.DataLoader(\n",
    "        dataset=val_ae_ds, batch_size=wandb.config.batch_size, shuffle=True\n",
    "    )\n",
    "\n",
    "    train_classifier_loader = torch.utils.data.DataLoader(\n",
    "        dataset=train_classifier_ds, batch_size=wandb.config.batch_size, shuffle=True\n",
    "    )\n",
    "\n",
    "    val_classifier_loader = torch.utils.data.DataLoader(\n",
    "        dataset=val_classifier_ds, batch_size=wandb.config.batch_size, shuffle=True\n",
    "    )\n",
    "    return {\n",
    "        \"ae_train\": train_ae_loader,\n",
    "        \"ae_val\": val_ae_loader,\n",
    "        \"classifier_train\": train_classifier_loader,\n",
    "        \"classifier_val\": val_classifier_loader,\n",
    "    }"
   ]
  },
  {
   "cell_type": "code",
   "execution_count": 7,
   "metadata": {},
   "outputs": [],
   "source": [
    "class AE(torch.nn.Module):\n",
    "    def __init__(self):\n",
    "        super().__init__()\n",
    "\n",
    "        # Building an linear encoder with Linear\n",
    "        # layer followed by Relu activation function\n",
    "        # 784 ==> 9\n",
    "        self.encoder = torch.nn.Sequential(\n",
    "            torch.nn.Linear(28 * 28, 128),\n",
    "            torch.nn.ReLU(),\n",
    "            torch.nn.Linear(128, 64),\n",
    "            torch.nn.ReLU(),\n",
    "            torch.nn.Linear(64, 36),\n",
    "            torch.nn.ReLU(),\n",
    "            torch.nn.Linear(36, 18),\n",
    "            torch.nn.ReLU(),\n",
    "            torch.nn.Linear(18, 10),\n",
    "        )\n",
    "\n",
    "        # Building an linear decoder with Linear\n",
    "        # layer followed by Relu activation function\n",
    "        # The Sigmoid activation function\n",
    "        # outputs the value between 0 and 1\n",
    "        # 9 ==> 784\n",
    "        self.decoder = torch.nn.Sequential(\n",
    "            torch.nn.Linear(10, 18),\n",
    "            torch.nn.ReLU(),\n",
    "            torch.nn.Linear(18, 36),\n",
    "            torch.nn.ReLU(),\n",
    "            torch.nn.Linear(36, 64),\n",
    "            torch.nn.ReLU(),\n",
    "            torch.nn.Linear(64, 128),\n",
    "            torch.nn.ReLU(),\n",
    "            torch.nn.Linear(128, 28 * 28),\n",
    "            torch.nn.Sigmoid(),\n",
    "        )\n",
    "\n",
    "    def forward(self, x):\n",
    "        encoded = self.encoder(x)\n",
    "        decoded = self.decoder(encoded)\n",
    "        return decoded"
   ]
  },
  {
   "cell_type": "code",
   "execution_count": 8,
   "metadata": {},
   "outputs": [],
   "source": [
    "class SSLClassifier(torch.nn.Module):\n",
    "\n",
    "    def __init__(self, ae: AE):\n",
    "\n",
    "        super().__init__()\n",
    "\n",
    "        self.encoder = ae.encoder\n",
    "        for params in self.encoder.parameters():\n",
    "            params.requires_grad = False\n",
    "\n",
    "        # Defines model for classifying digits\n",
    "        self.classifier = torch.nn.Sequential(\n",
    "            torch.nn.ReLU(),\n",
    "            torch.nn.Linear(10, 128),\n",
    "            torch.nn.ReLU(),\n",
    "            torch.nn.Linear(128, 64),\n",
    "            torch.nn.ReLU(),\n",
    "            torch.nn.Linear(64, 36),\n",
    "            torch.nn.ReLU(),\n",
    "            torch.nn.Linear(36, 18),\n",
    "            torch.nn.ReLU(),\n",
    "            torch.nn.Linear(18, 10),\n",
    "            torch.nn.Softmax(),\n",
    "        )\n",
    "\n",
    "    def forward(self, x):\n",
    "        x = self.encoder(x)\n",
    "        logits = self.classifier(x)\n",
    "        return logits"
   ]
  },
  {
   "cell_type": "code",
   "execution_count": 9,
   "metadata": {},
   "outputs": [],
   "source": [
    "class SSLClassifier2(torch.nn.Module):\n",
    "\n",
    "    def __init__(self, ae: AE):\n",
    "\n",
    "        super().__init__()\n",
    "\n",
    "        self.encoder = ae.encoder\n",
    "\n",
    "        # Defines model for classifying digits\n",
    "        self.classifier = torch.nn.Sequential(\n",
    "            torch.nn.ReLU(),\n",
    "            torch.nn.Linear(10, 128),\n",
    "            torch.nn.ReLU(),\n",
    "            torch.nn.Linear(128, 64),\n",
    "            torch.nn.ReLU(),\n",
    "            torch.nn.Linear(64, 36),\n",
    "            torch.nn.ReLU(),\n",
    "            torch.nn.Linear(36, 18),\n",
    "            torch.nn.ReLU(),\n",
    "            torch.nn.Linear(18, 10),\n",
    "            torch.nn.Softmax(),\n",
    "        )\n",
    "\n",
    "    def forward(self, x):\n",
    "        x = self.encoder(x)\n",
    "        logits = self.classifier(x)\n",
    "        return logits"
   ]
  },
  {
   "cell_type": "code",
   "execution_count": 10,
   "metadata": {},
   "outputs": [],
   "source": [
    "def train_step(model, optimizer, loss_fn, loader):\n",
    "\n",
    "    model.train()\n",
    "\n",
    "    batch_loss = 0.0\n",
    "    batch_acc = 0.0\n",
    "\n",
    "    for image, label in loader:\n",
    "\n",
    "        # Reshaping the image to (-1, 784)\n",
    "        image = image.reshape(-1, 28 * 28)\n",
    "\n",
    "        # Moving tensors to device\n",
    "        image = image.to(wandb.config.device)\n",
    "        label = label.to(wandb.config.device)\n",
    "\n",
    "        # Output of classifier\n",
    "        pred = model(image)\n",
    "\n",
    "        # Calculating the loss function\n",
    "        loss = loss_fn(pred, label)\n",
    "\n",
    "        # The gradients are set to zero,\n",
    "        # the gradient is computed and stored.\n",
    "        # .step() performs parameter update\n",
    "        optimizer.zero_grad()\n",
    "        loss.backward()\n",
    "        optimizer.step()\n",
    "\n",
    "        batch_loss += loss.item() * image.size(0)\n",
    "        batch_acc += torch.sum(torch.argmax(pred, dim=1) == label).item()\n",
    "\n",
    "    batch_loss = batch_loss / len(loader.dataset)\n",
    "    batch_acc = batch_acc / len(loader.dataset)\n",
    "\n",
    "    return batch_loss, batch_acc\n",
    "\n",
    "\n",
    "def val_step(model, loss_fn, loader):\n",
    "\n",
    "    model.eval()\n",
    "\n",
    "    batch_loss = 0.0\n",
    "    batch_acc = 0.0\n",
    "\n",
    "    for image, label in loader:\n",
    "\n",
    "        # Reshaping the image to (-1, 784)\n",
    "        image = image.reshape(-1, 28 * 28)\n",
    "\n",
    "        # Moving tensors to device\n",
    "        image = image.to(wandb.config.device)\n",
    "        label = label.to(wandb.config.device)\n",
    "\n",
    "        # Output of Autoencoder\n",
    "        pred = model(image)\n",
    "\n",
    "        # Calculating the loss function\n",
    "        loss = loss_fn(pred, label)\n",
    "        batch_loss += loss.item() * image.size(0)\n",
    "\n",
    "        # Calculating the acc\n",
    "        batch_acc += torch.sum(torch.argmax(pred, dim=1) == label).item()\n",
    "\n",
    "    batch_loss = batch_loss / len(loader.dataset)\n",
    "    batch_acc = batch_acc / len(loader.dataset)\n",
    "\n",
    "    return batch_loss, batch_acc\n",
    "\n",
    "\n",
    "def train(model, optimizer, loss_fn, train_loader, val_loader):\n",
    "\n",
    "    model = model.to(wandb.config.device)\n",
    "\n",
    "    for epoch in tqdm(range(wandb.config.epochs + 1)):\n",
    "        train_loss, train_acc = train_step(model, optimizer, loss_fn, train_loader)\n",
    "        val_loss, val_acc = val_step(model, loss_fn, val_loader)\n",
    "        wandb.log(\n",
    "            {\n",
    "                \"train_loss\": train_loss,\n",
    "                \"train_acc\": train_acc,\n",
    "                \"val_loss\": val_loss,\n",
    "                \"val_acc\": val_acc,\n",
    "                \"epoch\": epoch,\n",
    "            }\n",
    "        )"
   ]
  },
  {
   "cell_type": "code",
   "execution_count": 11,
   "metadata": {},
   "outputs": [
    {
     "data": {
      "text/html": [
       "Tracking run with wandb version 0.16.6"
      ],
      "text/plain": [
       "<IPython.core.display.HTML object>"
      ]
     },
     "metadata": {},
     "output_type": "display_data"
    },
    {
     "data": {
      "text/html": [
       "Run data is saved locally in <code>/root/repos/mnist-autoencoder-classification/wandb/run-20240501_220225-ummxlvkc</code>"
      ],
      "text/plain": [
       "<IPython.core.display.HTML object>"
      ]
     },
     "metadata": {},
     "output_type": "display_data"
    },
    {
     "data": {
      "text/html": [
       "Syncing run <strong><a href='https://wandb.ai/deepsat/ssl-mnist/runs/ummxlvkc' target=\"_blank\">northern-glitter-9</a></strong> to <a href='https://wandb.ai/deepsat/ssl-mnist' target=\"_blank\">Weights & Biases</a> (<a href='https://wandb.me/run' target=\"_blank\">docs</a>)<br/>"
      ],
      "text/plain": [
       "<IPython.core.display.HTML object>"
      ]
     },
     "metadata": {},
     "output_type": "display_data"
    },
    {
     "data": {
      "text/html": [
       " View project at <a href='https://wandb.ai/deepsat/ssl-mnist' target=\"_blank\">https://wandb.ai/deepsat/ssl-mnist</a>"
      ],
      "text/plain": [
       "<IPython.core.display.HTML object>"
      ]
     },
     "metadata": {},
     "output_type": "display_data"
    },
    {
     "data": {
      "text/html": [
       " View run at <a href='https://wandb.ai/deepsat/ssl-mnist/runs/ummxlvkc' target=\"_blank\">https://wandb.ai/deepsat/ssl-mnist/runs/ummxlvkc</a>"
      ],
      "text/plain": [
       "<IPython.core.display.HTML object>"
      ]
     },
     "metadata": {},
     "output_type": "display_data"
    },
    {
     "name": "stderr",
     "output_type": "stream",
     "text": [
      "  0%|          | 0/41 [00:00<?, ?it/s]/root/miniconda3/envs/mnist-ssl-classifier/lib/python3.9/site-packages/torch/nn/modules/module.py:1532: UserWarning: Implicit dimension choice for softmax has been deprecated. Change the call to include dim=X as an argument.\n",
      "  return self._call_impl(*args, **kwargs)\n",
      "100%|██████████| 41/41 [06:57<00:00, 10.19s/it]\n"
     ]
    },
    {
     "data": {
      "text/html": [
       "<style>\n",
       "    table.wandb td:nth-child(1) { padding: 0 10px; text-align: left ; width: auto;} td:nth-child(2) {text-align: left ; width: 100%}\n",
       "    .wandb-row { display: flex; flex-direction: row; flex-wrap: wrap; justify-content: flex-start; width: 100% }\n",
       "    .wandb-col { display: flex; flex-direction: column; flex-basis: 100%; flex: 1; padding: 10px; }\n",
       "    </style>\n",
       "<div class=\"wandb-row\"><div class=\"wandb-col\"><h3>Run history:</h3><br/><table class=\"wandb\"><tr><td>epoch</td><td>▁▁▁▂▂▂▂▂▂▃▃▃▃▃▃▄▄▄▄▄▅▅▅▅▅▅▆▆▆▆▆▆▇▇▇▇▇▇██</td></tr><tr><td>train_acc</td><td>▁▃▅██████▃███▅▃██▇█▇▄▆█████▅█▆▇████▇██▇▇</td></tr><tr><td>train_loss</td><td>█▄▂▂▂▂▂▂▂▂▂▂▂▁▂▂▂▂▂▂▂▂▂▂▂▂▂▂▂▂▂▂▂▂▂▂▂▂▂▂</td></tr><tr><td>val_acc</td><td>▁▁▁▁▁▁▁▁▁▁▁▁▁▁▁▁▁▁▁▁▁▁▁▁▁▁▁▁▁▁▁▁▁▁▁▁▁▁▁▁</td></tr><tr><td>val_loss</td><td>▁▁▄▅▅▄▃▃▃▄▃▂▄▂▃▂▅█▂▃▃▃▁▃▅▄▃▆▄▅▇▄█▃▄▅▅▅▃▇</td></tr></table><br/></div><div class=\"wandb-col\"><h3>Run summary:</h3><br/><table class=\"wandb\"><tr><td>epoch</td><td>40</td></tr><tr><td>train_acc</td><td>0.11367</td></tr><tr><td>train_loss</td><td>2.30079</td></tr><tr><td>val_acc</td><td>0.111</td></tr><tr><td>val_loss</td><td>2.30134</td></tr></table><br/></div></div>"
      ],
      "text/plain": [
       "<IPython.core.display.HTML object>"
      ]
     },
     "metadata": {},
     "output_type": "display_data"
    },
    {
     "data": {
      "text/html": [
       " View run <strong style=\"color:#cdcd00\">northern-glitter-9</strong> at: <a href='https://wandb.ai/deepsat/ssl-mnist/runs/ummxlvkc' target=\"_blank\">https://wandb.ai/deepsat/ssl-mnist/runs/ummxlvkc</a><br/> View project at: <a href='https://wandb.ai/deepsat/ssl-mnist' target=\"_blank\">https://wandb.ai/deepsat/ssl-mnist</a><br/>Synced 6 W&B file(s), 0 media file(s), 0 artifact file(s) and 0 other file(s)"
      ],
      "text/plain": [
       "<IPython.core.display.HTML object>"
      ]
     },
     "metadata": {},
     "output_type": "display_data"
    },
    {
     "data": {
      "text/html": [
       "Find logs at: <code>./wandb/run-20240501_220225-ummxlvkc/logs</code>"
      ],
      "text/plain": [
       "<IPython.core.display.HTML object>"
      ]
     },
     "metadata": {},
     "output_type": "display_data"
    }
   ],
   "source": [
    "config_path = \"config/classifier-ssl.json\"\n",
    "job_type = \"classifier-ssl\"\n",
    "\n",
    "with WANDBConfig(job_type, config_path) as cf, ClearCache() as cc:\n",
    "\n",
    "    # Dataloader\n",
    "    loaders = dataloader()\n",
    "    train_loader = loaders[\"classifier_train\"]\n",
    "    val_loader = loaders[\"classifier_val\"]\n",
    "\n",
    "    # Loads AutoEncoder weights\n",
    "    ae = AE()\n",
    "    ae_model_state = torch.load(wandb.config.trained_autoencoder_path)\n",
    "    ae.load_state_dict(ae_model_state)\n",
    "\n",
    "    # Instanciate new digit classifier model\n",
    "    model = SSLClassifier(ae) if wandb.config.freeze_encoder else SSLClassifier2(ae)\n",
    "\n",
    "    # Validation using Cross Entropy Loss function\n",
    "    loss_fn = torch.nn.CrossEntropyLoss()\n",
    "\n",
    "    # Using an Adam Optimizer\n",
    "    optimizer = torch.optim.Adam(\n",
    "        model.parameters(), lr=wandb.config.lr, weight_decay=1e-8\n",
    "    )\n",
    "    train(model, optimizer, loss_fn, train_loader, val_loader)"
   ]
  },
  {
   "cell_type": "code",
   "execution_count": 12,
   "metadata": {},
   "outputs": [],
   "source": [
    "torch.save(model.state_dict(), \"pth/classifier-ssl.pth\")"
   ]
  }
 ],
 "metadata": {
  "kernelspec": {
   "display_name": "mnist-ssl-classifier",
   "language": "python",
   "name": "python3"
  },
  "language_info": {
   "codemirror_mode": {
    "name": "ipython",
    "version": 3
   },
   "file_extension": ".py",
   "mimetype": "text/x-python",
   "name": "python",
   "nbconvert_exporter": "python",
   "pygments_lexer": "ipython3",
   "version": "3.9.19"
  }
 },
 "nbformat": 4,
 "nbformat_minor": 2
}
